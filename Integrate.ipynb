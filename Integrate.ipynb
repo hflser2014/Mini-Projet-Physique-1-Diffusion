{
 "metadata": {
  "language_info": {
   "codemirror_mode": {
    "name": "ipython",
    "version": 3
   },
   "file_extension": ".py",
   "mimetype": "text/x-python",
   "name": "python",
   "nbconvert_exporter": "python",
   "pygments_lexer": "ipython3",
   "version": "3.7.9-final"
  },
  "orig_nbformat": 2,
  "kernelspec": {
   "name": "python3",
   "display_name": "Python 3"
  }
 },
 "nbformat": 4,
 "nbformat_minor": 2,
 "cells": [
  {
   "cell_type": "code",
   "execution_count": 2,
   "metadata": {},
   "outputs": [
    {
     "output_type": "display_data",
     "data": {
      "text/plain": "<IPython.core.display.Latex object>",
      "text/latex": "$$\\int\\limits_{0}^{2 \\pi} \\frac{r^{2} \\sin^{2}{\\left(\\alpha \\right)} + \\left(d + r \\cos{\\left(\\alpha \\right)}\\right)^{2}}{2 \\pi}\\, d\\alpha=\\frac{2 \\pi d^{2} + 2 \\pi r^{2}}{2 \\pi}=1.0 d^{2} + 1.0 r^{2}$$"
     },
     "metadata": {}
    }
   ],
   "source": [
    "import matplotlib.pyplot as plt\n",
    "import numpy as np\n",
    "import sympy as spy\n",
    "from IPython.display import display, Latex\n",
    "\n",
    "spy.init_printing(use_unicode=True)\n",
    "\n",
    "alphalist =np.linspace(0,6.28,100) \n",
    "def func(alpha):\n",
    "    return np.sin(alpha)**2\n",
    "ylist = [func(alpha) for alpha in alphalist]\n",
    "\n",
    "alpha,t,d,r = spy.symbols('alpha t d r')\n",
    "\n",
    "d0 = 10\n",
    "\n",
    "def dis(alpha):\n",
    "    return (d+spy.cos(alpha)*r)**2+(spy.sin(alpha)*r)**2\n",
    "\n",
    "int1 = spy.Integral(dis(alpha)/(2*spy.pi),(alpha,0,2*spy.pi))\n",
    "\n",
    "display(Latex(f\"$${spy.latex(int1)}={spy.latex(int1.doit())}={spy.latex(int1.doit().evalf())}$$\"))\n"
   ]
  },
  {
   "cell_type": "code",
   "execution_count": null,
   "metadata": {},
   "outputs": [],
   "source": []
  }
 ]
}